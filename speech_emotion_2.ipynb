{
 "cells": [
  {
   "cell_type": "code",
   "execution_count": null,
   "metadata": {
    "id": "79w4PSzEda-j"
   },
   "outputs": [],
   "source": [
    "data_directory = \"/content/datasets/ravdess\""
   ]
  },
  {
   "cell_type": "code",
   "execution_count": null,
   "metadata": {
    "id": "L7YsD2w4eArb"
   },
   "outputs": [],
   "source": [
    "root_path = '/'"
   ]
  },
  {
   "cell_type": "code",
   "execution_count": null,
   "metadata": {
    "id": "lLP_sDbJeOxW"
   },
   "outputs": [],
   "source": [
    "import os\n",
    "os.chdir(root_path)"
   ]
  },
  {
   "cell_type": "code",
   "execution_count": null,
   "metadata": {
    "colab": {
     "base_uri": "https://localhost:8080/"
    },
    "id": "nJtrDeH6eRDi",
    "outputId": "b73840c0-9f44-4bfd-9ff9-a067478e2cf5"
   },
   "outputs": [
    {
     "name": "stdout",
     "output_type": "stream",
     "text": [
      "Requirement already satisfied: PyDrive in /usr/local/lib/python3.10/dist-packages (1.3.1)\n",
      "Requirement already satisfied: google-api-python-client>=1.2 in /usr/local/lib/python3.10/dist-packages (from PyDrive) (2.84.0)\n",
      "Requirement already satisfied: oauth2client>=4.0.0 in /usr/local/lib/python3.10/dist-packages (from PyDrive) (4.1.3)\n",
      "Requirement already satisfied: PyYAML>=3.0 in /usr/local/lib/python3.10/dist-packages (from PyDrive) (6.0.1)\n",
      "Requirement already satisfied: httplib2<1dev,>=0.15.0 in /usr/local/lib/python3.10/dist-packages (from google-api-python-client>=1.2->PyDrive) (0.22.0)\n",
      "Requirement already satisfied: google-auth<3.0.0dev,>=1.19.0 in /usr/local/lib/python3.10/dist-packages (from google-api-python-client>=1.2->PyDrive) (2.27.0)\n",
      "Requirement already satisfied: google-auth-httplib2>=0.1.0 in /usr/local/lib/python3.10/dist-packages (from google-api-python-client>=1.2->PyDrive) (0.1.1)\n",
      "Requirement already satisfied: google-api-core!=2.0.*,!=2.1.*,!=2.2.*,!=2.3.0,<3.0.0dev,>=1.31.5 in /usr/local/lib/python3.10/dist-packages (from google-api-python-client>=1.2->PyDrive) (2.11.1)\n",
      "Requirement already satisfied: uritemplate<5,>=3.0.1 in /usr/local/lib/python3.10/dist-packages (from google-api-python-client>=1.2->PyDrive) (4.1.1)\n",
      "Requirement already satisfied: pyasn1>=0.1.7 in /usr/local/lib/python3.10/dist-packages (from oauth2client>=4.0.0->PyDrive) (0.6.0)\n",
      "Requirement already satisfied: pyasn1-modules>=0.0.5 in /usr/local/lib/python3.10/dist-packages (from oauth2client>=4.0.0->PyDrive) (0.4.0)\n",
      "Requirement already satisfied: rsa>=3.1.4 in /usr/local/lib/python3.10/dist-packages (from oauth2client>=4.0.0->PyDrive) (4.9)\n",
      "Requirement already satisfied: six>=1.6.1 in /usr/local/lib/python3.10/dist-packages (from oauth2client>=4.0.0->PyDrive) (1.16.0)\n",
      "Requirement already satisfied: googleapis-common-protos<2.0.dev0,>=1.56.2 in /usr/local/lib/python3.10/dist-packages (from google-api-core!=2.0.*,!=2.1.*,!=2.2.*,!=2.3.0,<3.0.0dev,>=1.31.5->google-api-python-client>=1.2->PyDrive) (1.63.0)\n",
      "Requirement already satisfied: protobuf!=3.20.0,!=3.20.1,!=4.21.0,!=4.21.1,!=4.21.2,!=4.21.3,!=4.21.4,!=4.21.5,<5.0.0.dev0,>=3.19.5 in /usr/local/lib/python3.10/dist-packages (from google-api-core!=2.0.*,!=2.1.*,!=2.2.*,!=2.3.0,<3.0.0dev,>=1.31.5->google-api-python-client>=1.2->PyDrive) (3.20.3)\n",
      "Requirement already satisfied: requests<3.0.0.dev0,>=2.18.0 in /usr/local/lib/python3.10/dist-packages (from google-api-core!=2.0.*,!=2.1.*,!=2.2.*,!=2.3.0,<3.0.0dev,>=1.31.5->google-api-python-client>=1.2->PyDrive) (2.31.0)\n",
      "Requirement already satisfied: cachetools<6.0,>=2.0.0 in /usr/local/lib/python3.10/dist-packages (from google-auth<3.0.0dev,>=1.19.0->google-api-python-client>=1.2->PyDrive) (5.3.3)\n",
      "Requirement already satisfied: pyparsing!=3.0.0,!=3.0.1,!=3.0.2,!=3.0.3,<4,>=2.4.2 in /usr/local/lib/python3.10/dist-packages (from httplib2<1dev,>=0.15.0->google-api-python-client>=1.2->PyDrive) (3.1.2)\n",
      "Requirement already satisfied: charset-normalizer<4,>=2 in /usr/local/lib/python3.10/dist-packages (from requests<3.0.0.dev0,>=2.18.0->google-api-core!=2.0.*,!=2.1.*,!=2.2.*,!=2.3.0,<3.0.0dev,>=1.31.5->google-api-python-client>=1.2->PyDrive) (3.3.2)\n",
      "Requirement already satisfied: idna<4,>=2.5 in /usr/local/lib/python3.10/dist-packages (from requests<3.0.0.dev0,>=2.18.0->google-api-core!=2.0.*,!=2.1.*,!=2.2.*,!=2.3.0,<3.0.0dev,>=1.31.5->google-api-python-client>=1.2->PyDrive) (3.6)\n",
      "Requirement already satisfied: urllib3<3,>=1.21.1 in /usr/local/lib/python3.10/dist-packages (from requests<3.0.0.dev0,>=2.18.0->google-api-core!=2.0.*,!=2.1.*,!=2.2.*,!=2.3.0,<3.0.0dev,>=1.31.5->google-api-python-client>=1.2->PyDrive) (2.0.7)\n",
      "Requirement already satisfied: certifi>=2017.4.17 in /usr/local/lib/python3.10/dist-packages (from requests<3.0.0.dev0,>=2.18.0->google-api-core!=2.0.*,!=2.1.*,!=2.2.*,!=2.3.0,<3.0.0dev,>=1.31.5->google-api-python-client>=1.2->PyDrive) (2024.2.2)\n",
      "Mounted at /content/gdrive\n"
     ]
    }
   ],
   "source": [
    "!pip install PyDrive\n",
    "\n",
    "from google.colab import drive\n",
    "drive.mount('/content/gdrive')"
   ]
  },
  {
   "cell_type": "code",
   "execution_count": null,
   "metadata": {
    "colab": {
     "base_uri": "https://localhost:8080/"
    },
    "id": "gYCOgHt4eTRc",
    "outputId": "52c35bdf-7179-45fc-f5c9-fc4204e19c62"
   },
   "outputs": [
    {
     "name": "stderr",
     "output_type": "stream",
     "text": [
      "WARNING:root:pydrive is deprecated and no longer maintained. We recommend that you migrate your projects to pydrive2, the maintained fork of pydrive\n"
     ]
    }
   ],
   "source": [
    "from pydrive.auth import GoogleAuth\n",
    "from pydrive.drive import GoogleDrive\n",
    "from google.colab import auth\n",
    "from oauth2client.client import GoogleCredentials"
   ]
  },
  {
   "cell_type": "code",
   "execution_count": null,
   "metadata": {
    "id": "wQQsjPEkei5F"
   },
   "outputs": [],
   "source": [
    "auth.authenticate_user()\n",
    "gauth = GoogleAuth()\n",
    "gauth.credentials = GoogleCredentials.get_application_default()\n",
    "drive = GoogleDrive(gauth)"
   ]
  },
  {
   "cell_type": "code",
   "execution_count": null,
   "metadata": {
    "colab": {
     "base_uri": "https://localhost:8080/"
    },
    "id": "OklEyYY1emiY",
    "outputId": "9f88827c-6a75-4033-b649-dd9bbd1df60a"
   },
   "outputs": [
    {
     "name": "stdout",
     "output_type": "stream",
     "text": [
      "Actor_01  Actor_04  Actor_07  Actor_10\tActor_13  Actor_16  Actor_19  Actor_22\n",
      "Actor_02  Actor_05  Actor_08  Actor_11\tActor_14  Actor_17  Actor_20  Actor_23\n",
      "Actor_03  Actor_06  Actor_09  Actor_12\tActor_15  Actor_18  Actor_21  Actor_24\n"
     ]
    }
   ],
   "source": [
    "zip_file_path = '/content/gdrive/MyDrive/speech-emotion-recognition-ravdess-data.zip'\n",
    "destination_dir = '/content/data'\n",
    "extracted_dir = '/content/datasets/ravdess'\n",
    "\n",
    "# Create directories if they don't exist\n",
    "if not os.path.exists(destination_dir):\n",
    "    os.makedirs(destination_dir)\n",
    "if not os.path.exists(extracted_dir):\n",
    "    os.makedirs(extracted_dir)\n",
    "\n",
    "# Copy the zip file to the destination directory\n",
    "!cp \"$zip_file_path\" \"$destination_dir\"\n",
    "\n",
    "# Navigate to the destination directory\n",
    "os.chdir(destination_dir)\n",
    "\n",
    "# Unzip the file into the extracted directory\n",
    "!unzip -q speech-emotion-recognition-ravdess-data.zip -d \"$extracted_dir\"\n",
    "\n",
    "# List the contents of the extracted directory\n",
    "!ls \"$extracted_dir\""
   ]
  },
  {
   "cell_type": "code",
   "execution_count": null,
   "metadata": {
    "colab": {
     "base_uri": "https://localhost:8080/"
    },
    "id": "4ybZ0-7jp2cc",
    "outputId": "1f20ecae-97e1-4f35-e45e-52dcd25bd341"
   },
   "outputs": [
    {
     "name": "stdout",
     "output_type": "stream",
     "text": [
      "Requirement already satisfied: tensorflow in /usr/local/lib/python3.10/dist-packages (2.15.0)\n",
      "Requirement already satisfied: absl-py>=1.0.0 in /usr/local/lib/python3.10/dist-packages (from tensorflow) (1.4.0)\n",
      "Requirement already satisfied: astunparse>=1.6.0 in /usr/local/lib/python3.10/dist-packages (from tensorflow) (1.6.3)\n",
      "Requirement already satisfied: flatbuffers>=23.5.26 in /usr/local/lib/python3.10/dist-packages (from tensorflow) (24.3.25)\n",
      "Requirement already satisfied: gast!=0.5.0,!=0.5.1,!=0.5.2,>=0.2.1 in /usr/local/lib/python3.10/dist-packages (from tensorflow) (0.5.4)\n",
      "Requirement already satisfied: google-pasta>=0.1.1 in /usr/local/lib/python3.10/dist-packages (from tensorflow) (0.2.0)\n",
      "Requirement already satisfied: h5py>=2.9.0 in /usr/local/lib/python3.10/dist-packages (from tensorflow) (3.9.0)\n",
      "Requirement already satisfied: libclang>=13.0.0 in /usr/local/lib/python3.10/dist-packages (from tensorflow) (18.1.1)\n",
      "Requirement already satisfied: ml-dtypes~=0.2.0 in /usr/local/lib/python3.10/dist-packages (from tensorflow) (0.2.0)\n",
      "Requirement already satisfied: numpy<2.0.0,>=1.23.5 in /usr/local/lib/python3.10/dist-packages (from tensorflow) (1.25.2)\n",
      "Requirement already satisfied: opt-einsum>=2.3.2 in /usr/local/lib/python3.10/dist-packages (from tensorflow) (3.3.0)\n",
      "Requirement already satisfied: packaging in /usr/local/lib/python3.10/dist-packages (from tensorflow) (24.0)\n",
      "Requirement already satisfied: protobuf!=4.21.0,!=4.21.1,!=4.21.2,!=4.21.3,!=4.21.4,!=4.21.5,<5.0.0dev,>=3.20.3 in /usr/local/lib/python3.10/dist-packages (from tensorflow) (3.20.3)\n",
      "Requirement already satisfied: setuptools in /usr/local/lib/python3.10/dist-packages (from tensorflow) (67.7.2)\n",
      "Requirement already satisfied: six>=1.12.0 in /usr/local/lib/python3.10/dist-packages (from tensorflow) (1.16.0)\n",
      "Requirement already satisfied: termcolor>=1.1.0 in /usr/local/lib/python3.10/dist-packages (from tensorflow) (2.4.0)\n",
      "Requirement already satisfied: typing-extensions>=3.6.6 in /usr/local/lib/python3.10/dist-packages (from tensorflow) (4.10.0)\n",
      "Requirement already satisfied: wrapt<1.15,>=1.11.0 in /usr/local/lib/python3.10/dist-packages (from tensorflow) (1.14.1)\n",
      "Requirement already satisfied: tensorflow-io-gcs-filesystem>=0.23.1 in /usr/local/lib/python3.10/dist-packages (from tensorflow) (0.36.0)\n",
      "Requirement already satisfied: grpcio<2.0,>=1.24.3 in /usr/local/lib/python3.10/dist-packages (from tensorflow) (1.62.1)\n",
      "Requirement already satisfied: tensorboard<2.16,>=2.15 in /usr/local/lib/python3.10/dist-packages (from tensorflow) (2.15.2)\n",
      "Requirement already satisfied: tensorflow-estimator<2.16,>=2.15.0 in /usr/local/lib/python3.10/dist-packages (from tensorflow) (2.15.0)\n",
      "Requirement already satisfied: keras<2.16,>=2.15.0 in /usr/local/lib/python3.10/dist-packages (from tensorflow) (2.15.0)\n",
      "Requirement already satisfied: wheel<1.0,>=0.23.0 in /usr/local/lib/python3.10/dist-packages (from astunparse>=1.6.0->tensorflow) (0.43.0)\n",
      "Requirement already satisfied: google-auth<3,>=1.6.3 in /usr/local/lib/python3.10/dist-packages (from tensorboard<2.16,>=2.15->tensorflow) (2.27.0)\n",
      "Requirement already satisfied: google-auth-oauthlib<2,>=0.5 in /usr/local/lib/python3.10/dist-packages (from tensorboard<2.16,>=2.15->tensorflow) (1.2.0)\n",
      "Requirement already satisfied: markdown>=2.6.8 in /usr/local/lib/python3.10/dist-packages (from tensorboard<2.16,>=2.15->tensorflow) (3.6)\n",
      "Requirement already satisfied: requests<3,>=2.21.0 in /usr/local/lib/python3.10/dist-packages (from tensorboard<2.16,>=2.15->tensorflow) (2.31.0)\n",
      "Requirement already satisfied: tensorboard-data-server<0.8.0,>=0.7.0 in /usr/local/lib/python3.10/dist-packages (from tensorboard<2.16,>=2.15->tensorflow) (0.7.2)\n",
      "Requirement already satisfied: werkzeug>=1.0.1 in /usr/local/lib/python3.10/dist-packages (from tensorboard<2.16,>=2.15->tensorflow) (3.0.1)\n",
      "Requirement already satisfied: cachetools<6.0,>=2.0.0 in /usr/local/lib/python3.10/dist-packages (from google-auth<3,>=1.6.3->tensorboard<2.16,>=2.15->tensorflow) (5.3.3)\n",
      "Requirement already satisfied: pyasn1-modules>=0.2.1 in /usr/local/lib/python3.10/dist-packages (from google-auth<3,>=1.6.3->tensorboard<2.16,>=2.15->tensorflow) (0.4.0)\n",
      "Requirement already satisfied: rsa<5,>=3.1.4 in /usr/local/lib/python3.10/dist-packages (from google-auth<3,>=1.6.3->tensorboard<2.16,>=2.15->tensorflow) (4.9)\n",
      "Requirement already satisfied: requests-oauthlib>=0.7.0 in /usr/local/lib/python3.10/dist-packages (from google-auth-oauthlib<2,>=0.5->tensorboard<2.16,>=2.15->tensorflow) (1.3.1)\n",
      "Requirement already satisfied: charset-normalizer<4,>=2 in /usr/local/lib/python3.10/dist-packages (from requests<3,>=2.21.0->tensorboard<2.16,>=2.15->tensorflow) (3.3.2)\n",
      "Requirement already satisfied: idna<4,>=2.5 in /usr/local/lib/python3.10/dist-packages (from requests<3,>=2.21.0->tensorboard<2.16,>=2.15->tensorflow) (3.6)\n",
      "Requirement already satisfied: urllib3<3,>=1.21.1 in /usr/local/lib/python3.10/dist-packages (from requests<3,>=2.21.0->tensorboard<2.16,>=2.15->tensorflow) (2.0.7)\n",
      "Requirement already satisfied: certifi>=2017.4.17 in /usr/local/lib/python3.10/dist-packages (from requests<3,>=2.21.0->tensorboard<2.16,>=2.15->tensorflow) (2024.2.2)\n",
      "Requirement already satisfied: MarkupSafe>=2.1.1 in /usr/local/lib/python3.10/dist-packages (from werkzeug>=1.0.1->tensorboard<2.16,>=2.15->tensorflow) (2.1.5)\n",
      "Requirement already satisfied: pyasn1<0.7.0,>=0.4.6 in /usr/local/lib/python3.10/dist-packages (from pyasn1-modules>=0.2.1->google-auth<3,>=1.6.3->tensorboard<2.16,>=2.15->tensorflow) (0.6.0)\n",
      "Requirement already satisfied: oauthlib>=3.0.0 in /usr/local/lib/python3.10/dist-packages (from requests-oauthlib>=0.7.0->google-auth-oauthlib<2,>=0.5->tensorboard<2.16,>=2.15->tensorflow) (3.2.2)\n"
     ]
    }
   ],
   "source": [
    "!pip install tensorflow"
   ]
  },
  {
   "cell_type": "code",
   "execution_count": null,
   "metadata": {
    "colab": {
     "base_uri": "https://localhost:8080/"
    },
    "id": "s5auKBLDqfdc",
    "outputId": "ed18dd0c-f089-485e-d25b-08effdbe0337"
   },
   "outputs": [
    {
     "name": "stdout",
     "output_type": "stream",
     "text": [
      "Collecting keras_utils\n",
      "  Downloading keras-utils-1.0.13.tar.gz (2.4 kB)\n",
      "  Preparing metadata (setup.py) ... \u001b[?25l\u001b[?25hdone\n",
      "Requirement already satisfied: Keras>=2.1.5 in /usr/local/lib/python3.10/dist-packages (from keras_utils) (2.15.0)\n",
      "Building wheels for collected packages: keras_utils\n",
      "  Building wheel for keras_utils (setup.py) ... \u001b[?25l\u001b[?25hdone\n",
      "  Created wheel for keras_utils: filename=keras_utils-1.0.13-py3-none-any.whl size=2631 sha256=7def9078fd4d1ece9f0fad5636bad35595ce97686e3ca71ed629d4a056b5058d\n",
      "  Stored in directory: /root/.cache/pip/wheels/5c/c0/b3/0c332de4fd71f3733ea6d61697464b7ae4b2b5ff0300e6ca7a\n",
      "Successfully built keras_utils\n",
      "Installing collected packages: keras_utils\n",
      "Successfully installed keras_utils-1.0.13\n"
     ]
    }
   ],
   "source": [
    "!pip install keras_utils"
   ]
  },
  {
   "cell_type": "code",
   "execution_count": 34,
   "metadata": {
    "id": "SqboPiLQev_C"
   },
   "outputs": [],
   "source": [
    "import librosa\n",
    "import soundfile\n",
    "import os, glob, pickle\n",
    "import numpy as np\n",
    "from sklearn.model_selection import train_test_split\n",
    "from sklearn.metrics import accuracy_score,classification_report, confusion_matrix, f1_score\n",
    "import pickle\n",
    "import tensorflow as tf\n",
    "from tensorflow.keras import layers, Sequential\n",
    "from tensorflow.keras.layers import Conv1D, Activation, Dropout, Dense, Flatten, MaxPooling1D\n",
    "from sklearn.preprocessing import LabelEncoder, OneHotEncoder\n",
    "from tensorflow.keras.utils import to_categorical\n",
    "from tensorflow.keras import regularizers\n",
    "from matplotlib import pyplot as plt\n",
    "import seaborn as sn\n",
    "import pandas as pd\n",
    "import sklearn.metrics as metrics\n",
    "import keras"
   ]
  },
  {
   "cell_type": "code",
   "execution_count": null,
   "metadata": {
    "id": "F2-v-eeXpY0l"
   },
   "outputs": [],
   "source": [
    "emotions = {\n",
    "    '01':'neutral',\n",
    "    '02':'calm',\n",
    "    '03':'happy',\n",
    "    '04':'sad',\n",
    "    '05':'angry',\n",
    "    '06':'fearful',\n",
    "    '07':'disgust',\n",
    "    '08':'surprised'\n",
    "}"
   ]
  },
  {
   "cell_type": "code",
   "execution_count": null,
   "metadata": {
    "id": "zs3x6mQnvDa-"
   },
   "outputs": [],
   "source": [
    "def extract_feature(data, sr, mfcc=True, chroma=True, mel=True):\n",
    "\n",
    "    \"\"\"\n",
    "    extract features from audio files into numpy array\n",
    "\n",
    "    Parameters\n",
    "    ----------\n",
    "    data : np.ndarray, audio time series\n",
    "    sr : number > 0, sampling rate\n",
    "    mfcc : boolean, Mel Frequency Cepstral Coefficient, represents the short-term power spectrum of a sound\n",
    "    chroma : boolean, pertains to the 12 different pitch classes\n",
    "    mel : boolean, Mel Spectrogram Frequency\n",
    "\n",
    "    \"\"\"\n",
    "\n",
    "    if chroma:\n",
    "        stft = np.abs(librosa.stft(data))\n",
    "    result = np.array([])\n",
    "    if mfcc:\n",
    "        mfccs = np.mean(librosa.feature.mfcc(y=data, sr=sr, n_mfcc=40).T, axis=0)\n",
    "        result = np.hstack((result, mfccs))\n",
    "    if chroma:\n",
    "        chroma = np.mean(librosa.feature.chroma_stft(S=stft, sr=sr).T,axis=0)\n",
    "        result = np.hstack((result, chroma))\n",
    "    if mel:\n",
    "        mel = np.mean(librosa.feature.melspectrogram(y=data, sr=sr).T,axis=0)\n",
    "        result = np.hstack((result, mel))\n",
    "\n",
    "    return result"
   ]
  },
  {
   "cell_type": "code",
   "execution_count": null,
   "metadata": {
    "id": "nKNdZ4LAvGtM"
   },
   "outputs": [],
   "source": [
    "def noise(data, noise_factor):\n",
    "\n",
    "    \"\"\"\n",
    "    add random white noises to the audio\n",
    "\n",
    "    Parameters\n",
    "    ----------\n",
    "    data : np.ndarray, audio time series\n",
    "    noise_factor : float, the measure of noise to be added\n",
    "\n",
    "    \"\"\"\n",
    "    noise = np.random.randn(len(data))\n",
    "    augmented_data = data + noise_factor * noise\n",
    "\n",
    "    # Cast back to same data type\n",
    "    augmented_data = augmented_data.astype(type(data[0]))\n",
    "    return augmented_data"
   ]
  },
  {
   "cell_type": "code",
   "execution_count": null,
   "metadata": {
    "id": "TubxuQA5vJ5j"
   },
   "outputs": [],
   "source": [
    "def shift(data, sampling_rate, shift_max, shift_direction):\n",
    "\n",
    "    \"\"\"\n",
    "    shift the spectogram in a direction\n",
    "\n",
    "    Parameters\n",
    "    ----------\n",
    "    data : np.ndarray, audio time series\n",
    "    sampling_rate : number > 0, sampling rate\n",
    "    shift_max : float, maximum shift rate\n",
    "    shift_direction : string, right/both\n",
    "\n",
    "    \"\"\"\n",
    "    shift = np.random.randint(sampling_rate * shift_max)\n",
    "    if shift_direction == 'right':\n",
    "        shift = -shift\n",
    "    elif shift_direction == 'both':\n",
    "        direction = np.random.randint(0, 2)\n",
    "        if direction == 1:\n",
    "            shift = -shift\n",
    "    augmented_data = np.roll(data, shift)\n",
    "    if shift > 0:\n",
    "        augmented_data[:shift] = 0\n",
    "    else:\n",
    "        augmented_data[shift:] = 0\n",
    "\n",
    "    return augmented_data"
   ]
  },
  {
   "cell_type": "code",
   "execution_count": null,
   "metadata": {
    "id": "qcRd0DD4vMLU"
   },
   "outputs": [],
   "source": [
    "def load_data(save=False):\n",
    "\n",
    "    \"\"\"\n",
    "    loading dataset\n",
    "\n",
    "    Parameters\n",
    "    ----------\n",
    "    save : boolean, save the data to disk as .npy\n",
    "\n",
    "    \"\"\"\n",
    "    x, y = [], []\n",
    "    for file in glob.glob(data_directory + \"/Actor_*/*.wav\"):\n",
    "        # load an audio file as a floating point time series.\n",
    "        data, sr = librosa.load(file)\n",
    "\n",
    "        # extract features from audio files into numpy array\n",
    "        feature = extract_feature(data, sr, mfcc=True, chroma=True, mel=True)\n",
    "        x.append(feature)\n",
    "\n",
    "        file_name = os.path.basename(file)\n",
    "\n",
    "        # get emotion label from the file name\n",
    "        emotion = emotions[file_name.split(\"-\")[2]]\n",
    "        y.append(emotion)\n",
    "\n",
    "        # add noise to the data\n",
    "        n_data = noise(data, 0.001)\n",
    "        n_feature = extract_feature(n_data, sr, mfcc=True, chroma=True, mel=True)\n",
    "        x.append(n_feature)\n",
    "        y.append(emotion)\n",
    "\n",
    "        # shift the data\n",
    "        s_data = shift(data,sr,0.25,'right')\n",
    "        s_feature = extract_feature(s_data, sr, mfcc=True, chroma=True, mel=True)\n",
    "        x.append(s_feature)\n",
    "        y.append(emotion)\n",
    "\n",
    "    if save==True:\n",
    "        np.save('X', np.array(x))\n",
    "        np.save('y', y)\n",
    "\n",
    "    return np.array(x), y"
   ]
  },
  {
   "cell_type": "code",
   "execution_count": null,
   "metadata": {
    "id": "9JpZMCz2vOgd"
   },
   "outputs": [],
   "source": [
    "X, y = load_data(save=True)\n",
    "\n",
    "x_train, x_test, y_train, y_test = train_test_split(X, y, test_size=0.25, random_state=9)"
   ]
  },
  {
   "cell_type": "code",
   "execution_count": null,
   "metadata": {
    "colab": {
     "base_uri": "https://localhost:8080/"
    },
    "id": "ksUXBIfZzYcH",
    "outputId": "f97e6452-b184-4bb8-93c7-f24361b2eefd"
   },
   "outputs": [
    {
     "name": "stdout",
     "output_type": "stream",
     "text": [
      "{'angry': 0, 'calm': 1, 'disgust': 2, 'fearful': 3, 'happy': 4, 'neutral': 5, 'sad': 6, 'surprised': 7}\n"
     ]
    }
   ],
   "source": [
    "labelencoder = LabelEncoder()\n",
    "labelencoder.fit(y_train)\n",
    "le_name_mapping = dict(zip(labelencoder.classes_, labelencoder.transform(labelencoder.classes_)))\n",
    "print(le_name_mapping)\n",
    "\n",
    "y_train = labelencoder.transform(y_train)\n",
    "y_test = labelencoder.transform(y_test)"
   ]
  },
  {
   "cell_type": "code",
   "execution_count": null,
   "metadata": {
    "colab": {
     "base_uri": "https://localhost:8080/"
    },
    "id": "jswBdQUz3F9i",
    "outputId": "ff14039f-2e60-496e-95b7-5f0e4e249ff0"
   },
   "outputs": [
    {
     "name": "stdout",
     "output_type": "stream",
     "text": [
      "Features extracted: 180\n"
     ]
    }
   ],
   "source": [
    "# Get the number of features extracted\n",
    "print(f'Features extracted: {x_train.shape[1]}')"
   ]
  },
  {
   "cell_type": "code",
   "execution_count": null,
   "metadata": {
    "id": "vD4ly7WN3KAk"
   },
   "outputs": [],
   "source": [
    "model = Sequential()\n",
    "model.add(Conv1D(256, 5,padding='same', input_shape=(180,1))) # 1st layer\n",
    "model.add(Activation('relu'))\n",
    "model.add(Conv1D(128, 5,padding='same', kernel_regularizer=regularizers.l1_l2(l1=1e-5, l2=1e-4))) # 2nd layer\n",
    "model.add(Activation('relu'))\n",
    "model.add(Dropout(0.1))\n",
    "model.add(MaxPooling1D(pool_size=(8)))\n",
    "model.add(Conv1D(128, 5,padding='same', kernel_regularizer=regularizers.l1_l2(l1=1e-5, l2=1e-4))) # 3rd layer\n",
    "model.add(Activation('relu'))\n",
    "model.add(Conv1D(128, 5,padding='same', kernel_regularizer=regularizers.l1_l2(l1=1e-5, l2=1e-4))) # 4th layer\n",
    "model.add(Activation('relu'))\n",
    "model.add(Dropout(0.5))\n",
    "model.add(Flatten())\n",
    "model.add(Dense(units=8,\n",
    "                kernel_regularizer=regularizers.l1_l2(l1=1e-5, l2=1e-4),\n",
    "                bias_regularizer=regularizers.l2(1e-4),\n",
    "                activity_regularizer=regularizers.l2(1e-5)\n",
    "                )\n",
    ") # 7th layer\n",
    "model.add(Activation('softmax'))\n",
    "opt = tf.keras.optimizers.Adam(learning_rate=1e-6)"
   ]
  },
  {
   "cell_type": "code",
   "execution_count": null,
   "metadata": {
    "colab": {
     "base_uri": "https://localhost:8080/"
    },
    "id": "g1PUTf1D3NmZ",
    "outputId": "2ba91fe2-c8b4-496f-c8ab-8832c6646db7"
   },
   "outputs": [
    {
     "name": "stdout",
     "output_type": "stream",
     "text": [
      "Model: \"sequential\"\n",
      "_________________________________________________________________\n",
      " Layer (type)                Output Shape              Param #   \n",
      "=================================================================\n",
      " conv1d (Conv1D)             (None, 180, 256)          1536      \n",
      "                                                                 \n",
      " activation (Activation)     (None, 180, 256)          0         \n",
      "                                                                 \n",
      " conv1d_1 (Conv1D)           (None, 180, 128)          163968    \n",
      "                                                                 \n",
      " activation_1 (Activation)   (None, 180, 128)          0         \n",
      "                                                                 \n",
      " dropout (Dropout)           (None, 180, 128)          0         \n",
      "                                                                 \n",
      " max_pooling1d (MaxPooling1  (None, 22, 128)           0         \n",
      " D)                                                              \n",
      "                                                                 \n",
      " conv1d_2 (Conv1D)           (None, 22, 128)           82048     \n",
      "                                                                 \n",
      " activation_2 (Activation)   (None, 22, 128)           0         \n",
      "                                                                 \n",
      " conv1d_3 (Conv1D)           (None, 22, 128)           82048     \n",
      "                                                                 \n",
      " activation_3 (Activation)   (None, 22, 128)           0         \n",
      "                                                                 \n",
      " dropout_1 (Dropout)         (None, 22, 128)           0         \n",
      "                                                                 \n",
      " flatten (Flatten)           (None, 2816)              0         \n",
      "                                                                 \n",
      " dense (Dense)               (None, 8)                 22536     \n",
      "                                                                 \n",
      " activation_4 (Activation)   (None, 8)                 0         \n",
      "                                                                 \n",
      "=================================================================\n",
      "Total params: 352136 (1.34 MB)\n",
      "Trainable params: 352136 (1.34 MB)\n",
      "Non-trainable params: 0 (0.00 Byte)\n",
      "_________________________________________________________________\n"
     ]
    }
   ],
   "source": [
    "model.compile(loss='sparse_categorical_crossentropy', optimizer=opt,metrics=['accuracy'])\n",
    "model.summary()"
   ]
  },
  {
   "cell_type": "code",
   "execution_count": null,
   "metadata": {
    "id": "sVwvsKP93s0G"
   },
   "outputs": [],
   "source": [
    "from tensorflow.keras.callbacks import ModelCheckpoint\n",
    "checkpoint = ModelCheckpoint(\"/content/model_weights.h5\", monitor  ='val_accuracy', save_weights_only = True, mode = 'max', verbose =1)\n",
    "callbacks = [checkpoint]"
   ]
  },
  {
   "cell_type": "code",
   "execution_count": null,
   "metadata": {
    "colab": {
     "background_save": true,
     "base_uri": "https://localhost:8080/"
    },
    "id": "UWvyfCtc4DpJ",
    "outputId": "e43a6970-a6f8-4e97-f610-2ec9b68faec1"
   },
   "outputs": [
    {
     "name": "stdout",
     "output_type": "stream",
     "text": [
      "Epoch 1/100\n",
      "102/102 [==============================] - ETA: 0s - loss: 2.0025 - accuracy: 0.2762\n",
      "Epoch 1: saving model to /content/model_weights.h5\n",
      "102/102 [==============================] - 27s 269ms/step - loss: 2.0025 - accuracy: 0.2762 - val_loss: 1.9935 - val_accuracy: 0.3185\n",
      "Epoch 2/100\n",
      "101/102 [============================>.] - ETA: 0s - loss: 2.0139 - accuracy: 0.2676\n",
      "Epoch 2: saving model to /content/model_weights.h5\n",
      "102/102 [==============================] - 27s 266ms/step - loss: 2.0144 - accuracy: 0.2673 - val_loss: 1.9926 - val_accuracy: 0.3130\n",
      "Epoch 3/100\n",
      "101/102 [============================>.] - ETA: 0s - loss: 2.0124 - accuracy: 0.2713\n",
      "Epoch 3: saving model to /content/model_weights.h5\n",
      "102/102 [==============================] - 17s 162ms/step - loss: 2.0125 - accuracy: 0.2716 - val_loss: 1.9909 - val_accuracy: 0.3157\n",
      "Epoch 4/100\n",
      "101/102 [============================>.] - ETA: 0s - loss: 2.0025 - accuracy: 0.2720\n",
      "Epoch 4: saving model to /content/model_weights.h5\n",
      "102/102 [==============================] - 16s 161ms/step - loss: 2.0024 - accuracy: 0.2716 - val_loss: 1.9900 - val_accuracy: 0.3167\n",
      "Epoch 5/100\n",
      "102/102 [==============================] - ETA: 0s - loss: 2.0049 - accuracy: 0.2787\n",
      "Epoch 5: saving model to /content/model_weights.h5\n",
      "102/102 [==============================] - 18s 174ms/step - loss: 2.0049 - accuracy: 0.2787 - val_loss: 1.9891 - val_accuracy: 0.3148\n",
      "Epoch 6/100\n",
      "101/102 [============================>.] - ETA: 0s - loss: 1.9951 - accuracy: 0.2834\n",
      "Epoch 6: saving model to /content/model_weights.h5\n",
      "102/102 [==============================] - 17s 162ms/step - loss: 1.9950 - accuracy: 0.2830 - val_loss: 1.9875 - val_accuracy: 0.3148\n",
      "Epoch 7/100\n",
      "101/102 [============================>.] - ETA: 0s - loss: 2.0072 - accuracy: 0.2692\n",
      "Epoch 7: saving model to /content/model_weights.h5\n",
      "102/102 [==============================] - 16s 161ms/step - loss: 2.0074 - accuracy: 0.2694 - val_loss: 1.9854 - val_accuracy: 0.3157\n",
      "Epoch 8/100\n",
      "101/102 [============================>.] - ETA: 0s - loss: 2.0013 - accuracy: 0.2729\n",
      "Epoch 8: saving model to /content/model_weights.h5\n",
      "102/102 [==============================] - 17s 168ms/step - loss: 2.0017 - accuracy: 0.2728 - val_loss: 1.9838 - val_accuracy: 0.3222\n",
      "Epoch 9/100\n",
      "102/102 [==============================] - ETA: 0s - loss: 2.0078 - accuracy: 0.2645\n",
      "Epoch 9: saving model to /content/model_weights.h5\n",
      "102/102 [==============================] - 18s 177ms/step - loss: 2.0078 - accuracy: 0.2645 - val_loss: 1.9825 - val_accuracy: 0.3250\n",
      "Epoch 10/100\n",
      "102/102 [==============================] - ETA: 0s - loss: 1.9892 - accuracy: 0.2830\n",
      "Epoch 10: saving model to /content/model_weights.h5\n",
      "102/102 [==============================] - 21s 203ms/step - loss: 1.9892 - accuracy: 0.2830 - val_loss: 1.9814 - val_accuracy: 0.3231\n",
      "Epoch 11/100\n",
      "101/102 [============================>.] - ETA: 0s - loss: 1.9927 - accuracy: 0.2809\n",
      "Epoch 11: saving model to /content/model_weights.h5\n",
      "102/102 [==============================] - 17s 164ms/step - loss: 1.9921 - accuracy: 0.2812 - val_loss: 1.9805 - val_accuracy: 0.3185\n",
      "Epoch 12/100\n",
      "102/102 [==============================] - ETA: 0s - loss: 1.9979 - accuracy: 0.2707\n",
      "Epoch 12: saving model to /content/model_weights.h5\n",
      "102/102 [==============================] - 18s 178ms/step - loss: 1.9979 - accuracy: 0.2707 - val_loss: 1.9794 - val_accuracy: 0.3167\n",
      "Epoch 13/100\n",
      "101/102 [============================>.] - ETA: 0s - loss: 1.9968 - accuracy: 0.2893\n",
      "Epoch 13: saving model to /content/model_weights.h5\n",
      "102/102 [==============================] - 16s 161ms/step - loss: 1.9972 - accuracy: 0.2895 - val_loss: 1.9780 - val_accuracy: 0.3194\n",
      "Epoch 14/100\n",
      "101/102 [============================>.] - ETA: 0s - loss: 1.9799 - accuracy: 0.2859\n",
      "Epoch 14: saving model to /content/model_weights.h5\n",
      "102/102 [==============================] - 16s 161ms/step - loss: 1.9808 - accuracy: 0.2855 - val_loss: 1.9762 - val_accuracy: 0.3204\n",
      "Epoch 15/100\n",
      "101/102 [============================>.] - ETA: 0s - loss: 1.9856 - accuracy: 0.2825\n",
      "Epoch 15: saving model to /content/model_weights.h5\n",
      "102/102 [==============================] - 16s 161ms/step - loss: 1.9851 - accuracy: 0.2824 - val_loss: 1.9748 - val_accuracy: 0.3167\n",
      "Epoch 16/100\n",
      "102/102 [==============================] - ETA: 0s - loss: 1.9847 - accuracy: 0.2772\n",
      "Epoch 16: saving model to /content/model_weights.h5\n",
      "102/102 [==============================] - 18s 180ms/step - loss: 1.9847 - accuracy: 0.2772 - val_loss: 1.9737 - val_accuracy: 0.3167\n",
      "Epoch 17/100\n",
      "101/102 [============================>.] - ETA: 0s - loss: 1.9807 - accuracy: 0.2930\n",
      "Epoch 17: saving model to /content/model_weights.h5\n",
      "102/102 [==============================] - 16s 161ms/step - loss: 1.9809 - accuracy: 0.2926 - val_loss: 1.9728 - val_accuracy: 0.3213\n",
      "Epoch 18/100\n",
      "101/102 [============================>.] - ETA: 0s - loss: 1.9844 - accuracy: 0.2983\n",
      "Epoch 18: saving model to /content/model_weights.h5\n",
      "102/102 [==============================] - 16s 160ms/step - loss: 1.9844 - accuracy: 0.2978 - val_loss: 1.9716 - val_accuracy: 0.3213\n",
      "Epoch 19/100\n",
      "101/102 [============================>.] - ETA: 0s - loss: 1.9788 - accuracy: 0.2788\n",
      "Epoch 19: saving model to /content/model_weights.h5\n",
      "102/102 [==============================] - 16s 160ms/step - loss: 1.9785 - accuracy: 0.2790 - val_loss: 1.9702 - val_accuracy: 0.3241\n",
      "Epoch 20/100\n",
      "102/102 [==============================] - ETA: 0s - loss: 1.9812 - accuracy: 0.2762\n",
      "Epoch 20: saving model to /content/model_weights.h5\n",
      "102/102 [==============================] - 18s 173ms/step - loss: 1.9812 - accuracy: 0.2762 - val_loss: 1.9690 - val_accuracy: 0.3250\n",
      "Epoch 21/100\n",
      "101/102 [============================>.] - ETA: 0s - loss: 1.9735 - accuracy: 0.2964\n",
      "Epoch 21: saving model to /content/model_weights.h5\n",
      "102/102 [==============================] - 16s 161ms/step - loss: 1.9744 - accuracy: 0.2960 - val_loss: 1.9683 - val_accuracy: 0.3204\n",
      "Epoch 22/100\n",
      "101/102 [============================>.] - ETA: 0s - loss: 1.9792 - accuracy: 0.2924\n",
      "Epoch 22: saving model to /content/model_weights.h5\n",
      "102/102 [==============================] - 16s 160ms/step - loss: 1.9788 - accuracy: 0.2929 - val_loss: 1.9670 - val_accuracy: 0.3231\n",
      "Epoch 23/100\n",
      "101/102 [============================>.] - ETA: 0s - loss: 1.9730 - accuracy: 0.3014\n",
      "Epoch 23: saving model to /content/model_weights.h5\n",
      "102/102 [==============================] - 16s 161ms/step - loss: 1.9734 - accuracy: 0.3009 - val_loss: 1.9661 - val_accuracy: 0.3204\n",
      "Epoch 24/100\n",
      "102/102 [==============================] - ETA: 0s - loss: 1.9796 - accuracy: 0.2920\n",
      "Epoch 24: saving model to /content/model_weights.h5\n",
      "102/102 [==============================] - 17s 169ms/step - loss: 1.9796 - accuracy: 0.2920 - val_loss: 1.9644 - val_accuracy: 0.3278\n",
      "Epoch 25/100\n",
      "101/102 [============================>.] - ETA: 0s - loss: 1.9653 - accuracy: 0.2989\n",
      "Epoch 25: saving model to /content/model_weights.h5\n",
      "102/102 [==============================] - 17s 164ms/step - loss: 1.9643 - accuracy: 0.2994 - val_loss: 1.9629 - val_accuracy: 0.3250\n",
      "Epoch 26/100\n",
      "101/102 [============================>.] - ETA: 0s - loss: 1.9665 - accuracy: 0.2964\n",
      "Epoch 26: saving model to /content/model_weights.h5\n",
      "102/102 [==============================] - 16s 160ms/step - loss: 1.9667 - accuracy: 0.2966 - val_loss: 1.9614 - val_accuracy: 0.3259\n",
      "Epoch 27/100\n",
      "101/102 [============================>.] - ETA: 0s - loss: 1.9732 - accuracy: 0.2905\n",
      "Epoch 27: saving model to /content/model_weights.h5\n",
      "102/102 [==============================] - 16s 161ms/step - loss: 1.9724 - accuracy: 0.2907 - val_loss: 1.9612 - val_accuracy: 0.3259\n",
      "Epoch 28/100\n",
      "101/102 [============================>.] - ETA: 0s - loss: 1.9626 - accuracy: 0.2995\n",
      "Epoch 28: saving model to /content/model_weights.h5\n",
      "102/102 [==============================] - 18s 174ms/step - loss: 1.9621 - accuracy: 0.2997 - val_loss: 1.9600 - val_accuracy: 0.3296\n",
      "Epoch 29/100\n",
      "101/102 [============================>.] - ETA: 0s - loss: 1.9676 - accuracy: 0.2980\n",
      "Epoch 29: saving model to /content/model_weights.h5\n",
      "102/102 [==============================] - 17s 162ms/step - loss: 1.9673 - accuracy: 0.2978 - val_loss: 1.9585 - val_accuracy: 0.3287\n",
      "Epoch 30/100\n",
      "101/102 [============================>.] - ETA: 0s - loss: 1.9683 - accuracy: 0.3035\n",
      "Epoch 30: saving model to /content/model_weights.h5\n",
      "102/102 [==============================] - 16s 161ms/step - loss: 1.9682 - accuracy: 0.3037 - val_loss: 1.9571 - val_accuracy: 0.3296\n",
      "Epoch 31/100\n",
      "101/102 [============================>.] - ETA: 0s - loss: 1.9470 - accuracy: 0.3026\n",
      "Epoch 31: saving model to /content/model_weights.h5\n",
      "102/102 [==============================] - 16s 162ms/step - loss: 1.9477 - accuracy: 0.3022 - val_loss: 1.9557 - val_accuracy: 0.3278\n",
      "Epoch 32/100\n",
      "102/102 [==============================] - ETA: 0s - loss: 1.9562 - accuracy: 0.3040\n",
      "Epoch 32: saving model to /content/model_weights.h5\n",
      "102/102 [==============================] - 18s 174ms/step - loss: 1.9562 - accuracy: 0.3040 - val_loss: 1.9543 - val_accuracy: 0.3315\n",
      "Epoch 33/100\n",
      "101/102 [============================>.] - ETA: 0s - loss: 1.9545 - accuracy: 0.3072\n",
      "Epoch 33: saving model to /content/model_weights.h5\n",
      "102/102 [==============================] - 16s 161ms/step - loss: 1.9539 - accuracy: 0.3074 - val_loss: 1.9533 - val_accuracy: 0.3324\n",
      "Epoch 34/100\n",
      "101/102 [============================>.] - ETA: 0s - loss: 1.9534 - accuracy: 0.3069\n",
      "Epoch 34: saving model to /content/model_weights.h5\n",
      "102/102 [==============================] - 17s 163ms/step - loss: 1.9538 - accuracy: 0.3065 - val_loss: 1.9520 - val_accuracy: 0.3296\n",
      "Epoch 35/100\n",
      "101/102 [============================>.] - ETA: 0s - loss: 1.9546 - accuracy: 0.2980\n",
      "Epoch 35: saving model to /content/model_weights.h5\n",
      "102/102 [==============================] - 16s 161ms/step - loss: 1.9542 - accuracy: 0.2978 - val_loss: 1.9504 - val_accuracy: 0.3278\n",
      "Epoch 36/100\n",
      "102/102 [==============================] - ETA: 0s - loss: 1.9630 - accuracy: 0.2914\n",
      "Epoch 36: saving model to /content/model_weights.h5\n",
      "102/102 [==============================] - 18s 176ms/step - loss: 1.9630 - accuracy: 0.2914 - val_loss: 1.9496 - val_accuracy: 0.3296\n",
      "Epoch 37/100\n",
      "101/102 [============================>.] - ETA: 0s - loss: 1.9616 - accuracy: 0.2983\n",
      "Epoch 37: saving model to /content/model_weights.h5\n",
      "102/102 [==============================] - 16s 160ms/step - loss: 1.9620 - accuracy: 0.2981 - val_loss: 1.9487 - val_accuracy: 0.3315\n",
      "Epoch 38/100\n",
      "101/102 [============================>.] - ETA: 0s - loss: 1.9687 - accuracy: 0.2896\n",
      "Epoch 38: saving model to /content/model_weights.h5\n",
      "102/102 [==============================] - 16s 158ms/step - loss: 1.9688 - accuracy: 0.2889 - val_loss: 1.9476 - val_accuracy: 0.3324\n",
      "Epoch 39/100\n",
      "101/102 [============================>.] - ETA: 0s - loss: 1.9548 - accuracy: 0.3075\n",
      "Epoch 39: saving model to /content/model_weights.h5\n",
      "102/102 [==============================] - 16s 159ms/step - loss: 1.9550 - accuracy: 0.3071 - val_loss: 1.9459 - val_accuracy: 0.3306\n",
      "Epoch 40/100\n",
      "101/102 [============================>.] - ETA: 0s - loss: 1.9538 - accuracy: 0.3026\n",
      "Epoch 40: saving model to /content/model_weights.h5\n",
      "102/102 [==============================] - 17s 168ms/step - loss: 1.9533 - accuracy: 0.3031 - val_loss: 1.9455 - val_accuracy: 0.3333\n",
      "Epoch 41/100\n",
      "101/102 [============================>.] - ETA: 0s - loss: 1.9446 - accuracy: 0.3075\n",
      "Epoch 41: saving model to /content/model_weights.h5\n",
      "102/102 [==============================] - 17s 163ms/step - loss: 1.9445 - accuracy: 0.3074 - val_loss: 1.9440 - val_accuracy: 0.3315\n",
      "Epoch 42/100\n",
      "101/102 [============================>.] - ETA: 0s - loss: 1.9458 - accuracy: 0.3011\n",
      "Epoch 42: saving model to /content/model_weights.h5\n",
      "102/102 [==============================] - 16s 159ms/step - loss: 1.9461 - accuracy: 0.3009 - val_loss: 1.9428 - val_accuracy: 0.3333\n",
      "Epoch 43/100\n",
      "101/102 [============================>.] - ETA: 0s - loss: 1.9575 - accuracy: 0.3038\n",
      "Epoch 43: saving model to /content/model_weights.h5\n",
      "102/102 [==============================] - 16s 159ms/step - loss: 1.9578 - accuracy: 0.3040 - val_loss: 1.9413 - val_accuracy: 0.3333\n",
      "Epoch 44/100\n",
      "101/102 [============================>.] - ETA: 0s - loss: 1.9523 - accuracy: 0.3072\n",
      "Epoch 44: saving model to /content/model_weights.h5\n",
      "102/102 [==============================] - 18s 172ms/step - loss: 1.9523 - accuracy: 0.3074 - val_loss: 1.9404 - val_accuracy: 0.3269\n",
      "Epoch 45/100\n",
      "101/102 [============================>.] - ETA: 0s - loss: 1.9457 - accuracy: 0.3088\n",
      "Epoch 45: saving model to /content/model_weights.h5\n",
      "102/102 [==============================] - 17s 162ms/step - loss: 1.9461 - accuracy: 0.3086 - val_loss: 1.9393 - val_accuracy: 0.3287\n",
      "Epoch 46/100\n",
      "101/102 [============================>.] - ETA: 0s - loss: 1.9445 - accuracy: 0.3038\n",
      "Epoch 46: saving model to /content/model_weights.h5\n",
      "102/102 [==============================] - 16s 159ms/step - loss: 1.9435 - accuracy: 0.3046 - val_loss: 1.9379 - val_accuracy: 0.3306\n",
      "Epoch 47/100\n",
      "101/102 [============================>.] - ETA: 0s - loss: 1.9426 - accuracy: 0.3178\n",
      "Epoch 47: saving model to /content/model_weights.h5\n",
      "102/102 [==============================] - 16s 158ms/step - loss: 1.9433 - accuracy: 0.3173 - val_loss: 1.9375 - val_accuracy: 0.3324\n",
      "Epoch 48/100\n",
      "101/102 [============================>.] - ETA: 0s - loss: 1.9308 - accuracy: 0.3147\n",
      "Epoch 48: saving model to /content/model_weights.h5\n",
      "102/102 [==============================] - 16s 162ms/step - loss: 1.9318 - accuracy: 0.3145 - val_loss: 1.9366 - val_accuracy: 0.3296\n",
      "Epoch 49/100\n",
      "102/102 [==============================] - ETA: 0s - loss: 1.9451 - accuracy: 0.3015\n",
      "Epoch 49: saving model to /content/model_weights.h5\n",
      "102/102 [==============================] - 17s 168ms/step - loss: 1.9451 - accuracy: 0.3015 - val_loss: 1.9353 - val_accuracy: 0.3306\n",
      "Epoch 50/100\n",
      "101/102 [============================>.] - ETA: 0s - loss: 1.9478 - accuracy: 0.3048\n",
      "Epoch 50: saving model to /content/model_weights.h5\n",
      "102/102 [==============================] - 16s 158ms/step - loss: 1.9483 - accuracy: 0.3043 - val_loss: 1.9342 - val_accuracy: 0.3361\n",
      "Epoch 51/100\n",
      "101/102 [============================>.] - ETA: 0s - loss: 1.9410 - accuracy: 0.3137\n",
      "Epoch 51: saving model to /content/model_weights.h5\n",
      "102/102 [==============================] - 16s 159ms/step - loss: 1.9408 - accuracy: 0.3139 - val_loss: 1.9330 - val_accuracy: 0.3352\n",
      "Epoch 52/100\n",
      "101/102 [============================>.] - ETA: 0s - loss: 1.9352 - accuracy: 0.3048\n",
      "Epoch 52: saving model to /content/model_weights.h5\n",
      "102/102 [==============================] - 16s 159ms/step - loss: 1.9356 - accuracy: 0.3046 - val_loss: 1.9322 - val_accuracy: 0.3380\n",
      "Epoch 53/100\n",
      "102/102 [==============================] - ETA: 0s - loss: 1.9280 - accuracy: 0.3238\n",
      "Epoch 53: saving model to /content/model_weights.h5\n",
      "102/102 [==============================] - 17s 171ms/step - loss: 1.9280 - accuracy: 0.3238 - val_loss: 1.9311 - val_accuracy: 0.3407\n",
      "Epoch 54/100\n",
      "101/102 [============================>.] - ETA: 0s - loss: 1.9364 - accuracy: 0.3066\n",
      "Epoch 54: saving model to /content/model_weights.h5\n",
      "102/102 [==============================] - 16s 159ms/step - loss: 1.9369 - accuracy: 0.3068 - val_loss: 1.9298 - val_accuracy: 0.3380\n",
      "Epoch 55/100\n",
      "101/102 [============================>.] - ETA: 0s - loss: 1.9334 - accuracy: 0.3075\n",
      "Epoch 55: saving model to /content/model_weights.h5\n",
      "102/102 [==============================] - 16s 159ms/step - loss: 1.9336 - accuracy: 0.3074 - val_loss: 1.9293 - val_accuracy: 0.3333\n",
      "Epoch 56/100\n",
      "101/102 [============================>.] - ETA: 0s - loss: 1.9402 - accuracy: 0.3147\n",
      "Epoch 56: saving model to /content/model_weights.h5\n",
      "102/102 [==============================] - 16s 159ms/step - loss: 1.9400 - accuracy: 0.3148 - val_loss: 1.9279 - val_accuracy: 0.3324\n",
      "Epoch 57/100\n",
      "102/102 [==============================] - ETA: 0s - loss: 1.9218 - accuracy: 0.3198\n",
      "Epoch 57: saving model to /content/model_weights.h5\n",
      "102/102 [==============================] - 18s 173ms/step - loss: 1.9218 - accuracy: 0.3198 - val_loss: 1.9271 - val_accuracy: 0.3361\n",
      "Epoch 58/100\n",
      "101/102 [============================>.] - ETA: 0s - loss: 1.9381 - accuracy: 0.3106\n",
      "Epoch 58: saving model to /content/model_weights.h5\n",
      "102/102 [==============================] - 16s 159ms/step - loss: 1.9380 - accuracy: 0.3108 - val_loss: 1.9260 - val_accuracy: 0.3333\n",
      "Epoch 59/100\n",
      "101/102 [============================>.] - ETA: 0s - loss: 1.9288 - accuracy: 0.3122\n",
      "Epoch 59: saving model to /content/model_weights.h5\n",
      "102/102 [==============================] - 16s 158ms/step - loss: 1.9281 - accuracy: 0.3123 - val_loss: 1.9253 - val_accuracy: 0.3343\n",
      "Epoch 60/100\n",
      "102/102 [==============================] - ETA: 0s - loss: 1.9368 - accuracy: 0.3157\n",
      "Epoch 60: saving model to /content/model_weights.h5\n",
      "102/102 [==============================] - 16s 160ms/step - loss: 1.9368 - accuracy: 0.3157 - val_loss: 1.9237 - val_accuracy: 0.3380\n",
      "Epoch 61/100\n",
      "102/102 [==============================] - ETA: 0s - loss: 1.9298 - accuracy: 0.3238\n",
      "Epoch 61: saving model to /content/model_weights.h5\n",
      "102/102 [==============================] - 18s 173ms/step - loss: 1.9298 - accuracy: 0.3238 - val_loss: 1.9233 - val_accuracy: 0.3324\n",
      "Epoch 62/100\n",
      "102/102 [==============================] - ETA: 0s - loss: 1.9223 - accuracy: 0.3213\n",
      "Epoch 62: saving model to /content/model_weights.h5\n",
      "102/102 [==============================] - 16s 160ms/step - loss: 1.9223 - accuracy: 0.3213 - val_loss: 1.9223 - val_accuracy: 0.3343\n",
      "Epoch 63/100\n",
      "101/102 [============================>.] - ETA: 0s - loss: 1.9220 - accuracy: 0.3196\n",
      "Epoch 63: saving model to /content/model_weights.h5\n",
      "102/102 [==============================] - 16s 160ms/step - loss: 1.9215 - accuracy: 0.3198 - val_loss: 1.9214 - val_accuracy: 0.3380\n",
      "Epoch 64/100\n",
      "101/102 [============================>.] - ETA: 0s - loss: 1.9281 - accuracy: 0.3227\n",
      "Epoch 64: saving model to /content/model_weights.h5\n",
      "102/102 [==============================] - 16s 158ms/step - loss: 1.9279 - accuracy: 0.3222 - val_loss: 1.9204 - val_accuracy: 0.3398\n",
      "Epoch 65/100\n",
      "101/102 [============================>.] - ETA: 0s - loss: 1.9238 - accuracy: 0.3243\n",
      "Epoch 65: saving model to /content/model_weights.h5\n",
      "102/102 [==============================] - 17s 172ms/step - loss: 1.9226 - accuracy: 0.3247 - val_loss: 1.9193 - val_accuracy: 0.3380\n",
      "Epoch 66/100\n",
      "101/102 [============================>.] - ETA: 0s - loss: 1.9144 - accuracy: 0.3221\n",
      "Epoch 66: saving model to /content/model_weights.h5\n",
      "102/102 [==============================] - 16s 159ms/step - loss: 1.9148 - accuracy: 0.3222 - val_loss: 1.9183 - val_accuracy: 0.3417\n",
      "Epoch 67/100\n",
      "101/102 [============================>.] - ETA: 0s - loss: 1.9174 - accuracy: 0.3246\n",
      "Epoch 67: saving model to /content/model_weights.h5\n",
      "102/102 [==============================] - 16s 160ms/step - loss: 1.9172 - accuracy: 0.3250 - val_loss: 1.9169 - val_accuracy: 0.3435\n",
      "Epoch 68/100\n",
      "102/102 [==============================] - ETA: 0s - loss: 1.9251 - accuracy: 0.3077\n",
      "Epoch 68: saving model to /content/model_weights.h5\n",
      "102/102 [==============================] - 16s 158ms/step - loss: 1.9251 - accuracy: 0.3077 - val_loss: 1.9160 - val_accuracy: 0.3380\n",
      "Epoch 69/100\n",
      "101/102 [============================>.] - ETA: 0s - loss: 1.9191 - accuracy: 0.3221\n",
      "Epoch 69: saving model to /content/model_weights.h5\n",
      "102/102 [==============================] - 18s 172ms/step - loss: 1.9191 - accuracy: 0.3219 - val_loss: 1.9151 - val_accuracy: 0.3389\n",
      "Epoch 70/100\n",
      "101/102 [============================>.] - ETA: 0s - loss: 1.9182 - accuracy: 0.3196\n",
      "Epoch 70: saving model to /content/model_weights.h5\n",
      "102/102 [==============================] - 16s 161ms/step - loss: 1.9184 - accuracy: 0.3201 - val_loss: 1.9141 - val_accuracy: 0.3454\n",
      "Epoch 71/100\n",
      "101/102 [============================>.] - ETA: 0s - loss: 1.9135 - accuracy: 0.3311\n",
      "Epoch 71: saving model to /content/model_weights.h5\n",
      "102/102 [==============================] - 16s 158ms/step - loss: 1.9141 - accuracy: 0.3306 - val_loss: 1.9125 - val_accuracy: 0.3463\n",
      "Epoch 72/100\n",
      "101/102 [============================>.] - ETA: 0s - loss: 1.9147 - accuracy: 0.3304\n",
      "Epoch 72: saving model to /content/model_weights.h5\n",
      "102/102 [==============================] - 16s 159ms/step - loss: 1.9150 - accuracy: 0.3302 - val_loss: 1.9119 - val_accuracy: 0.3454\n",
      "Epoch 73/100\n",
      "101/102 [============================>.] - ETA: 0s - loss: 1.9136 - accuracy: 0.3193\n",
      "Epoch 73: saving model to /content/model_weights.h5\n",
      "102/102 [==============================] - 17s 164ms/step - loss: 1.9138 - accuracy: 0.3194 - val_loss: 1.9105 - val_accuracy: 0.3444\n",
      "Epoch 74/100\n",
      "101/102 [============================>.] - ETA: 0s - loss: 1.9063 - accuracy: 0.3301\n",
      "Epoch 74: saving model to /content/model_weights.h5\n",
      "102/102 [==============================] - 17s 167ms/step - loss: 1.9063 - accuracy: 0.3309 - val_loss: 1.9098 - val_accuracy: 0.3500\n",
      "Epoch 75/100\n",
      "101/102 [============================>.] - ETA: 0s - loss: 1.9092 - accuracy: 0.3224\n",
      "Epoch 75: saving model to /content/model_weights.h5\n",
      "102/102 [==============================] - 16s 158ms/step - loss: 1.9094 - accuracy: 0.3225 - val_loss: 1.9086 - val_accuracy: 0.3500\n",
      "Epoch 76/100\n",
      "101/102 [============================>.] - ETA: 0s - loss: 1.9066 - accuracy: 0.3264\n",
      "Epoch 76: saving model to /content/model_weights.h5\n",
      "102/102 [==============================] - 16s 158ms/step - loss: 1.9065 - accuracy: 0.3269 - val_loss: 1.9077 - val_accuracy: 0.3481\n",
      "Epoch 77/100\n",
      "101/102 [============================>.] - ETA: 0s - loss: 1.9035 - accuracy: 0.3280\n",
      "Epoch 77: saving model to /content/model_weights.h5\n",
      "102/102 [==============================] - 16s 159ms/step - loss: 1.9038 - accuracy: 0.3281 - val_loss: 1.9066 - val_accuracy: 0.3509\n",
      "Epoch 78/100\n",
      "102/102 [==============================] - ETA: 0s - loss: 1.9134 - accuracy: 0.3142\n",
      "Epoch 78: saving model to /content/model_weights.h5\n",
      "102/102 [==============================] - 17s 170ms/step - loss: 1.9134 - accuracy: 0.3142 - val_loss: 1.9058 - val_accuracy: 0.3472\n",
      "Epoch 79/100\n",
      "101/102 [============================>.] - ETA: 0s - loss: 1.8977 - accuracy: 0.3326\n",
      "Epoch 79: saving model to /content/model_weights.h5\n",
      "102/102 [==============================] - 16s 160ms/step - loss: 1.8961 - accuracy: 0.3333 - val_loss: 1.9047 - val_accuracy: 0.3500\n",
      "Epoch 80/100\n",
      "101/102 [============================>.] - ETA: 0s - loss: 1.9005 - accuracy: 0.3239\n",
      "Epoch 80: saving model to /content/model_weights.h5\n",
      "102/102 [==============================] - 16s 160ms/step - loss: 1.9007 - accuracy: 0.3241 - val_loss: 1.9038 - val_accuracy: 0.3509\n",
      "Epoch 81/100\n",
      "101/102 [============================>.] - ETA: 0s - loss: 1.9083 - accuracy: 0.3202\n",
      "Epoch 81: saving model to /content/model_weights.h5\n",
      "102/102 [==============================] - 16s 161ms/step - loss: 1.9084 - accuracy: 0.3198 - val_loss: 1.9029 - val_accuracy: 0.3500\n",
      "Epoch 82/100\n",
      "102/102 [==============================] - ETA: 0s - loss: 1.9014 - accuracy: 0.3293\n",
      "Epoch 82: saving model to /content/model_weights.h5\n",
      "102/102 [==============================] - 18s 180ms/step - loss: 1.9014 - accuracy: 0.3293 - val_loss: 1.9024 - val_accuracy: 0.3528\n",
      "Epoch 83/100\n",
      "101/102 [============================>.] - ETA: 0s - loss: 1.8994 - accuracy: 0.3332\n",
      "Epoch 83: saving model to /content/model_weights.h5\n",
      "102/102 [==============================] - 16s 160ms/step - loss: 1.8990 - accuracy: 0.3336 - val_loss: 1.9013 - val_accuracy: 0.3528\n",
      "Epoch 84/100\n",
      "101/102 [============================>.] - ETA: 0s - loss: 1.8997 - accuracy: 0.3298\n",
      "Epoch 84: saving model to /content/model_weights.h5\n",
      "102/102 [==============================] - 16s 159ms/step - loss: 1.9003 - accuracy: 0.3290 - val_loss: 1.9003 - val_accuracy: 0.3491\n",
      "Epoch 85/100\n",
      "101/102 [============================>.] - ETA: 0s - loss: 1.8943 - accuracy: 0.3357\n",
      "Epoch 85: saving model to /content/model_weights.h5\n",
      "102/102 [==============================] - 16s 159ms/step - loss: 1.8939 - accuracy: 0.3361 - val_loss: 1.8991 - val_accuracy: 0.3528\n",
      "Epoch 86/100\n",
      "102/102 [==============================] - ETA: 0s - loss: 1.8991 - accuracy: 0.3398\n",
      "Epoch 86: saving model to /content/model_weights.h5\n",
      "102/102 [==============================] - 18s 173ms/step - loss: 1.8991 - accuracy: 0.3398 - val_loss: 1.8984 - val_accuracy: 0.3528\n",
      "Epoch 87/100\n",
      "101/102 [============================>.] - ETA: 0s - loss: 1.9009 - accuracy: 0.3233\n",
      "Epoch 87: saving model to /content/model_weights.h5\n",
      "102/102 [==============================] - 16s 159ms/step - loss: 1.9012 - accuracy: 0.3228 - val_loss: 1.8976 - val_accuracy: 0.3537\n",
      "Epoch 88/100\n",
      "101/102 [============================>.] - ETA: 0s - loss: 1.8874 - accuracy: 0.3308\n",
      "Epoch 88: saving model to /content/model_weights.h5\n",
      "102/102 [==============================] - 16s 160ms/step - loss: 1.8868 - accuracy: 0.3318 - val_loss: 1.8969 - val_accuracy: 0.3537\n",
      "Epoch 89/100\n",
      "101/102 [============================>.] - ETA: 0s - loss: 1.8918 - accuracy: 0.3295\n",
      "Epoch 89: saving model to /content/model_weights.h5\n",
      "102/102 [==============================] - 16s 160ms/step - loss: 1.8915 - accuracy: 0.3299 - val_loss: 1.8957 - val_accuracy: 0.3500\n",
      "Epoch 90/100\n",
      "102/102 [==============================] - ETA: 0s - loss: 1.8787 - accuracy: 0.3451\n",
      "Epoch 90: saving model to /content/model_weights.h5\n",
      "102/102 [==============================] - 18s 173ms/step - loss: 1.8787 - accuracy: 0.3451 - val_loss: 1.8949 - val_accuracy: 0.3537\n",
      "Epoch 91/100\n",
      "101/102 [============================>.] - ETA: 0s - loss: 1.8949 - accuracy: 0.3366\n",
      "Epoch 91: saving model to /content/model_weights.h5\n",
      "102/102 [==============================] - 16s 158ms/step - loss: 1.8952 - accuracy: 0.3370 - val_loss: 1.8939 - val_accuracy: 0.3500\n",
      "Epoch 92/100\n",
      "101/102 [============================>.] - ETA: 0s - loss: 1.8978 - accuracy: 0.3388\n",
      "Epoch 92: saving model to /content/model_weights.h5\n",
      "102/102 [==============================] - 16s 160ms/step - loss: 1.8973 - accuracy: 0.3392 - val_loss: 1.8933 - val_accuracy: 0.3500\n",
      "Epoch 93/100\n",
      "101/102 [============================>.] - ETA: 0s - loss: 1.8880 - accuracy: 0.3363\n",
      "Epoch 93: saving model to /content/model_weights.h5\n",
      "102/102 [==============================] - 16s 160ms/step - loss: 1.8880 - accuracy: 0.3364 - val_loss: 1.8925 - val_accuracy: 0.3537\n",
      "Epoch 94/100\n",
      "102/102 [==============================] - ETA: 0s - loss: 1.8945 - accuracy: 0.3250\n",
      "Epoch 94: saving model to /content/model_weights.h5\n",
      "102/102 [==============================] - 18s 173ms/step - loss: 1.8945 - accuracy: 0.3250 - val_loss: 1.8911 - val_accuracy: 0.3528\n",
      "Epoch 95/100\n",
      "101/102 [============================>.] - ETA: 0s - loss: 1.8918 - accuracy: 0.3270\n",
      "Epoch 95: saving model to /content/model_weights.h5\n",
      "102/102 [==============================] - 16s 158ms/step - loss: 1.8911 - accuracy: 0.3275 - val_loss: 1.8902 - val_accuracy: 0.3519\n",
      "Epoch 96/100\n",
      "101/102 [============================>.] - ETA: 0s - loss: 1.8824 - accuracy: 0.3391\n",
      "Epoch 96: saving model to /content/model_weights.h5\n",
      "102/102 [==============================] - 16s 159ms/step - loss: 1.8828 - accuracy: 0.3389 - val_loss: 1.8894 - val_accuracy: 0.3491\n",
      "Epoch 97/100\n",
      "101/102 [============================>.] - ETA: 0s - loss: 1.8852 - accuracy: 0.3403\n",
      "Epoch 97: saving model to /content/model_weights.h5\n",
      "102/102 [==============================] - 16s 160ms/step - loss: 1.8854 - accuracy: 0.3404 - val_loss: 1.8885 - val_accuracy: 0.3556\n",
      "Epoch 98/100\n",
      "102/102 [==============================] - ETA: 0s - loss: 1.8964 - accuracy: 0.3284\n",
      "Epoch 98: saving model to /content/model_weights.h5\n",
      "102/102 [==============================] - 17s 169ms/step - loss: 1.8964 - accuracy: 0.3284 - val_loss: 1.8876 - val_accuracy: 0.3574\n",
      "Epoch 99/100\n",
      "102/102 [==============================] - ETA: 0s - loss: 1.8828 - accuracy: 0.3503\n",
      "Epoch 99: saving model to /content/model_weights.h5\n",
      "102/102 [==============================] - 17s 164ms/step - loss: 1.8828 - accuracy: 0.3503 - val_loss: 1.8868 - val_accuracy: 0.3556\n",
      "Epoch 100/100\n",
      "101/102 [============================>.] - ETA: 0s - loss: 1.8863 - accuracy: 0.3354\n",
      "Epoch 100: saving model to /content/model_weights.h5\n",
      "102/102 [==============================] - 16s 159ms/step - loss: 1.8863 - accuracy: 0.3349 - val_loss: 1.8861 - val_accuracy: 0.3556\n"
     ]
    }
   ],
   "source": [
    "XProccessed = np.expand_dims(x_train, axis=2)\n",
    "XTestProcessed = np.expand_dims(x_test, axis=2)\n",
    "\n",
    "history = model.fit(XProccessed, y_train, epochs=100, validation_data=(XTestProcessed, y_test), batch_size=32, callbacks = callbacks)"
   ]
  },
  {
   "cell_type": "code",
   "execution_count": 25,
   "metadata": {
    "colab": {
     "base_uri": "https://localhost:8080/",
     "height": 472
    },
    "id": "ENLk-BAS4QYO",
    "outputId": "92b4c8f9-7f65-4b83-ad4a-c7c5995db541"
   },
   "outputs": [
    {
     "data": {
      "image/png": "[encoded data removed]",
      "text/plain": [
       "<Figure size 640x480 with 1 Axes>"
      ]
     },
     "metadata": {},
     "output_type": "display_data"
    }
   ],
   "source": [
    "plt.plot(history.history['accuracy'])\n",
    "plt.plot(history.history['val_accuracy'])\n",
    "plt.title('Model accuracy')\n",
    "plt.ylabel('Accuracy')\n",
    "plt.xlabel('Epoch')\n",
    "plt.legend(['Train', 'Val'], loc='upper left')\n",
    "plt.show()"
   ]
  },
  {
   "cell_type": "code",
   "execution_count": 26,
   "metadata": {
    "colab": {
     "base_uri": "https://localhost:8080/",
     "height": 472
    },
    "id": "lXA1009_-zvt",
    "outputId": "21f3b2be-0c47-48e7-f835-56010bb39a1f"
   },
   "outputs": [
    {
     "data": {
      "image/png": "[encoded data removed]",
      "text/plain": [
       "<Figure size 640x480 with 1 Axes>"
      ]
     },
     "metadata": {},
     "output_type": "display_data"
    }
   ],
   "source": [
    "plt.plot(history.history['loss'])\n",
    "plt.plot(history.history['val_loss'])\n",
    "plt.title('Model Loss')\n",
    "plt.ylabel('Loss')\n",
    "plt.xlabel('Epoch')\n",
    "plt.legend(['Train', 'Val'], loc='upper left')\n",
    "plt.show()"
   ]
  },
  {
   "cell_type": "code",
   "execution_count": 27,
   "metadata": {
    "colab": {
     "base_uri": "https://localhost:8080/"
    },
    "id": "QpSTJD1l-3Qd",
    "outputId": "976c3d4a-4c31-4970-a952-a0fb7aa32c40"
   },
   "outputs": [
    {
     "name": "stdout",
     "output_type": "stream",
     "text": [
      "34/34 [==============================] - 3s 87ms/step\n"
     ]
    }
   ],
   "source": [
    "y_pred = model.predict(XTestProcessed)"
   ]
  },
  {
   "cell_type": "code",
   "execution_count": 28,
   "metadata": {
    "colab": {
     "base_uri": "https://localhost:8080/",
     "height": 616
    },
    "id": "zAJdQJgg-7K7",
    "outputId": "05e00fa2-3605-43d0-f26e-b90685104a1c"
   },
   "outputs": [
    {
     "data": {
      "text/plain": [
       "<Axes: >"
      ]
     },
     "execution_count": 28,
     "metadata": {},
     "output_type": "execute_result"
    },
    {
     "data": {
      "image/png": "[encoded data removed]",
      "text/plain": [
       "<Figure size 1000x700 with 2 Axes>"
      ]
     },
     "metadata": {},
     "output_type": "display_data"
    }
   ],
   "source": [
    "confusion_emotions = ['angry', 'calm', 'disgust', 'fearful','happy','neutral','sad','surprised']\n",
    "cm=metrics.confusion_matrix(y_test,np.argmax(y_pred,axis=-1))\n",
    "df_cm=pd.DataFrame(cm,index=[i for i in confusion_emotions],columns=[i for i in confusion_emotions])\n",
    "plt.figure(figsize=(10,7))\n",
    "sn.heatmap(df_cm,annot=True)"
   ]
  },
  {
   "cell_type": "code",
   "execution_count": 29,
   "metadata": {
    "colab": {
     "base_uri": "https://localhost:8080/"
    },
    "id": "wPa394Bn-_cc",
    "outputId": "0a8f73e1-f050-4186-9e89-9eea8be35144"
   },
   "outputs": [
    {
     "data": {
      "text/plain": [
       "0.33266097715909015"
      ]
     },
     "execution_count": 29,
     "metadata": {},
     "output_type": "execute_result"
    }
   ],
   "source": [
    "f1_score(y_test,np.argmax(y_pred,axis=-1),average='weighted')"
   ]
  },
  {
   "cell_type": "code",
   "execution_count": 32,
   "metadata": {
    "colab": {
     "base_uri": "https://localhost:8080/"
    },
    "id": "ZX7BAdgO_L2t",
    "outputId": "f99e7b45-ebc8-485d-c520-973acd1a13d6"
   },
   "outputs": [
    {
     "name": "stderr",
     "output_type": "stream",
     "text": [
      "/usr/local/lib/python3.10/dist-packages/keras/src/engine/training.py:3103: UserWarning: You are saving your model as an HDF5 file via `model.save()`. This file format is considered legacy. We recommend using instead the native Keras format, e.g. `model.save('my_model.keras')`.\n",
      "  saving_api.save_model(\n"
     ]
    }
   ],
   "source": [
    "if not os.path.exists('models'):\n",
    "    os.makedirs('models')\n",
    "\n",
    "model.save(\"models/cnn.h5\")"
   ]
  },
  {
   "cell_type": "code",
   "execution_count": 30,
   "metadata": {
    "id": "c49461a8-j-I"
   },
   "outputs": [],
   "source": [
    "model_json = model.to_json()\n",
    "with open(\"/content/model_a1.json\",\"w\") as json_file:\n",
    "    json_file.write(model_json)"
   ]
  },
  {
   "cell_type": "code",
   "execution_count": 35,
   "metadata": {
    "id": "u7t1cx7I_SHS"
   },
   "outputs": [],
   "source": [
    "loaded_model = keras.models.load_model(\"models/cnn.h5\")"
   ]
  },
  {
   "cell_type": "code",
   "execution_count": 36,
   "metadata": {
    "id": "_Wpa3zUW_cyv"
   },
   "outputs": [],
   "source": [
    "def load_single_data(file):\n",
    "    x, y = [], []\n",
    "    file_name = os.path.basename(file)\n",
    "    emotion = emotions[file_name.split(\"-\")[2]]\n",
    "    data, sr = librosa.load(file)\n",
    "    feature = extract_feature(data, sr, mfcc=True, chroma=True, mel=True)\n",
    "    x.append(feature)\n",
    "    y.append(emotion)\n",
    "    return np.array(x), y"
   ]
  },
  {
   "cell_type": "code",
   "execution_count": 45,
   "metadata": {
    "id": "XG-J0Cf5_fT0"
   },
   "outputs": [],
   "source": [
    "XX, yy = load_single_data(\"/content/datasets/ravdess/Actor_09/03-01-03-01-01-01-09.wav\")"
   ]
  },
  {
   "cell_type": "code",
   "execution_count": 46,
   "metadata": {
    "colab": {
     "base_uri": "https://localhost:8080/"
    },
    "id": "uWOfVer2_puE",
    "outputId": "dd76918c-52c6-4708-81d0-d4ebbc50a42b"
   },
   "outputs": [
    {
     "data": {
      "text/plain": [
       "['happy']"
      ]
     },
     "execution_count": 46,
     "metadata": {},
     "output_type": "execute_result"
    }
   ],
   "source": [
    "yy"
   ]
  },
  {
   "cell_type": "code",
   "execution_count": null,
   "metadata": {
    "id": "alyHF1yHALAD"
   },
   "outputs": [],
   "source": []
  }
 ],
 "metadata": {
  "accelerator": "GPU",
  "colab": {
   "gpuType": "T4",
   "provenance": []
  },
  "kernelspec": {
   "display_name": "Python 3 (ipykernel)",
   "language": "python",
   "name": "python3"
  },
  "language_info": {
   "codemirror_mode": {
    "name": "ipython",
    "version": 3
   },
   "file_extension": ".py",
   "mimetype": "text/x-python",
   "name": "python",
   "nbconvert_exporter": "python",
   "pygments_lexer": "ipython3",
   "version": "3.10.9"
  }
 },
 "nbformat": 4,
 "nbformat_minor": 1
}
